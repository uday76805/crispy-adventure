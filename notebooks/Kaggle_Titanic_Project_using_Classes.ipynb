{
  "cells": [
    {
      "cell_type": "markdown",
      "metadata": {
        "id": "ZO6lk6UUuKbP"
      },
      "source": [
        "Classes Recap"
      ]
    },
    {
      "cell_type": "code",
      "execution_count": 1,
      "metadata": {
        "colab": {
          "base_uri": "https://localhost:8080/"
        },
        "id": "IZjyu8G7ogml",
        "outputId": "e0316d88-7f4d-490f-dc66-52c23117c4c4"
      },
      "outputs": [
        {
          "name": "stdout",
          "output_type": "stream",
          "text": [
            "Full Name: Uday GILL\n",
            "Level : Beginner\n",
            "Kaggle ID:  1\n",
            "There are 1 members on Kaggle\n",
            "\n"
          ]
        }
      ],
      "source": [
        "class KaggleMember():\n",
        "\n",
        "  kaggle_member_count = 0\n",
        "\n",
        "  def __init__(self, name, surname, level = None):\n",
        "    self.name = name.capitalize()\n",
        "    self.surname = surname.upper()\n",
        "    self.set_level(level)\n",
        "\n",
        "    KaggleMember.kaggle_member_count += 1\n",
        "    self.kaggle_id = KaggleMember.kaggle_member_count\n",
        "\n",
        "  def display_member_number(self):\n",
        "    print(\"There are {} members on Kaggle\".format(KaggleMember.kaggle_member_count))\n",
        "\n",
        "  def display_member_info(self):\n",
        "    print(\"Full Name: {} {}\".format(self.name, self.surname))\n",
        "    print(\"Level : {}\".format(self.level))\n",
        "    print(\"Kaggle ID: \", self.kaggle_id)\n",
        "\n",
        "  def set_level(self, level):\n",
        "    if level is None:\n",
        "      self.level = \"Beginner\"\n",
        "    else:\n",
        "      self.level = level.title()\n",
        "\n",
        "kaggler1 = KaggleMember('Uday', 'Gill')\n",
        "kaggler1.display_member_info()\n",
        "kaggler1.display_member_number()\n",
        "print()"
      ]
    },
    {
      "cell_type": "markdown",
      "metadata": {
        "id": "sWFZxcfNyLJ_"
      },
      "source": [
        "Explaination\n",
        "\n",
        "1. Created a Class named `KaggleMember()`.\n",
        "2. Class variable `kaggle_member_count` defined just below the Class name.\n",
        "3. Constructor method defined using `__init__()` to initialize attributes.\n",
        "4. First parameter `self` is a reference to current instance of the Class.\n",
        "5. Three more parameters used, two of which do not have default values which must be passed when the function is called.\n",
        "6. Assigned values to instance variables from the constructor method.\n",
        "7. A function is used to assign value to the `level` instance.\n",
        "8. Remaining other methods are defined to be applied on the attributes."
      ]
    },
    {
      "cell_type": "markdown",
      "metadata": {
        "id": "13LC5tZV2wfZ"
      },
      "source": [
        "\n",
        "\n",
        "---\n",
        "\n",
        "\n",
        "Titanic Project Introduction\n",
        "\n",
        "Problem - To create a model that predicts which passengers survived the Titanic shipwreck.\n",
        "\n",
        "Datasets - Two, one for training and one for testing. Here, we are only using the training dataset as we are not submitting our solution for testing.\n",
        "\n",
        "Metric - Percentage of passengers correctly predicted (also known as Accuracy).\n",
        "\n",
        "We begin by importing the necessary modules and the dataset."
      ]
    },
    {
      "cell_type": "code",
      "execution_count": 2,
      "metadata": {
        "id": "88Axw2enKq0M"
      },
      "outputs": [],
      "source": [
        "import pandas as pd\n",
        "from sklearn.model_selection import train_test_split\n",
        "from sklearn.ensemble import RandomForestClassifier\n",
        "from sklearn.metrics import accuracy_score\n",
        "from sklearn.model_selection import GridSearchCV"
      ]
    },
    {
      "cell_type": "code",
      "execution_count": 3,
      "metadata": {
        "colab": {
          "base_uri": "https://localhost:8080/",
          "height": 206
        },
        "id": "U5izvUgwTeLH",
        "outputId": "164c4bcf-cb54-4e50-8038-2e333dbbfe8c"
      },
      "outputs": [
        {
          "data": {
            "text/html": [
              "<div>\n",
              "<style scoped>\n",
              "    .dataframe tbody tr th:only-of-type {\n",
              "        vertical-align: middle;\n",
              "    }\n",
              "\n",
              "    .dataframe tbody tr th {\n",
              "        vertical-align: top;\n",
              "    }\n",
              "\n",
              "    .dataframe thead th {\n",
              "        text-align: right;\n",
              "    }\n",
              "</style>\n",
              "<table border=\"1\" class=\"dataframe\">\n",
              "  <thead>\n",
              "    <tr style=\"text-align: right;\">\n",
              "      <th></th>\n",
              "      <th>PassengerId</th>\n",
              "      <th>Survived</th>\n",
              "      <th>Pclass</th>\n",
              "      <th>Name</th>\n",
              "      <th>Sex</th>\n",
              "      <th>Age</th>\n",
              "      <th>SibSp</th>\n",
              "      <th>Parch</th>\n",
              "      <th>Ticket</th>\n",
              "      <th>Fare</th>\n",
              "      <th>Cabin</th>\n",
              "      <th>Embarked</th>\n",
              "    </tr>\n",
              "  </thead>\n",
              "  <tbody>\n",
              "    <tr>\n",
              "      <th>0</th>\n",
              "      <td>1</td>\n",
              "      <td>0</td>\n",
              "      <td>3</td>\n",
              "      <td>Braund, Mr. Owen Harris</td>\n",
              "      <td>male</td>\n",
              "      <td>22.0</td>\n",
              "      <td>1</td>\n",
              "      <td>0</td>\n",
              "      <td>A/5 21171</td>\n",
              "      <td>7.2500</td>\n",
              "      <td>NaN</td>\n",
              "      <td>S</td>\n",
              "    </tr>\n",
              "    <tr>\n",
              "      <th>1</th>\n",
              "      <td>2</td>\n",
              "      <td>1</td>\n",
              "      <td>1</td>\n",
              "      <td>Cumings, Mrs. John Bradley (Florence Briggs Th...</td>\n",
              "      <td>female</td>\n",
              "      <td>38.0</td>\n",
              "      <td>1</td>\n",
              "      <td>0</td>\n",
              "      <td>PC 17599</td>\n",
              "      <td>71.2833</td>\n",
              "      <td>C85</td>\n",
              "      <td>C</td>\n",
              "    </tr>\n",
              "    <tr>\n",
              "      <th>2</th>\n",
              "      <td>3</td>\n",
              "      <td>1</td>\n",
              "      <td>3</td>\n",
              "      <td>Heikkinen, Miss. Laina</td>\n",
              "      <td>female</td>\n",
              "      <td>26.0</td>\n",
              "      <td>0</td>\n",
              "      <td>0</td>\n",
              "      <td>STON/O2. 3101282</td>\n",
              "      <td>7.9250</td>\n",
              "      <td>NaN</td>\n",
              "      <td>S</td>\n",
              "    </tr>\n",
              "    <tr>\n",
              "      <th>3</th>\n",
              "      <td>4</td>\n",
              "      <td>1</td>\n",
              "      <td>1</td>\n",
              "      <td>Futrelle, Mrs. Jacques Heath (Lily May Peel)</td>\n",
              "      <td>female</td>\n",
              "      <td>35.0</td>\n",
              "      <td>1</td>\n",
              "      <td>0</td>\n",
              "      <td>113803</td>\n",
              "      <td>53.1000</td>\n",
              "      <td>C123</td>\n",
              "      <td>S</td>\n",
              "    </tr>\n",
              "    <tr>\n",
              "      <th>4</th>\n",
              "      <td>5</td>\n",
              "      <td>0</td>\n",
              "      <td>3</td>\n",
              "      <td>Allen, Mr. William Henry</td>\n",
              "      <td>male</td>\n",
              "      <td>35.0</td>\n",
              "      <td>0</td>\n",
              "      <td>0</td>\n",
              "      <td>373450</td>\n",
              "      <td>8.0500</td>\n",
              "      <td>NaN</td>\n",
              "      <td>S</td>\n",
              "    </tr>\n",
              "  </tbody>\n",
              "</table>\n",
              "</div>"
            ],
            "text/plain": [
              "   PassengerId  Survived  Pclass  \\\n",
              "0            1         0       3   \n",
              "1            2         1       1   \n",
              "2            3         1       3   \n",
              "3            4         1       1   \n",
              "4            5         0       3   \n",
              "\n",
              "                                                Name     Sex   Age  SibSp  \\\n",
              "0                            Braund, Mr. Owen Harris    male  22.0      1   \n",
              "1  Cumings, Mrs. John Bradley (Florence Briggs Th...  female  38.0      1   \n",
              "2                             Heikkinen, Miss. Laina  female  26.0      0   \n",
              "3       Futrelle, Mrs. Jacques Heath (Lily May Peel)  female  35.0      1   \n",
              "4                           Allen, Mr. William Henry    male  35.0      0   \n",
              "\n",
              "   Parch            Ticket     Fare Cabin Embarked  \n",
              "0      0         A/5 21171   7.2500   NaN        S  \n",
              "1      0          PC 17599  71.2833   C85        C  \n",
              "2      0  STON/O2. 3101282   7.9250   NaN        S  \n",
              "3      0            113803  53.1000  C123        S  \n",
              "4      0            373450   8.0500   NaN        S  "
            ]
          },
          "execution_count": 3,
          "metadata": {},
          "output_type": "execute_result"
        }
      ],
      "source": [
        "dataset = pd.read_csv('/workspaces/codespaces-jupyter/data/train.csv')\n",
        "datasetcopy = dataset\n",
        "\n",
        "dataset.head()"
      ]
    },
    {
      "cell_type": "markdown",
      "metadata": {
        "id": "EKteJPOratfE"
      },
      "source": [
        "Created a Class `Passenger()` representing a passenger on the Titanic ship with attributes derived from the header row of the dataset."
      ]
    },
    {
      "cell_type": "code",
      "execution_count": 4,
      "metadata": {
        "id": "UbynhCHBLAYd"
      },
      "outputs": [],
      "source": [
        "class Passenger():\n",
        "  def __init__(self, passenger_id, pclass, name, sex, age, sibsp, parch, ticket, fare, cabin, embarked):\n",
        "    self.passenger_id = passenger_id\n",
        "    self.pclass = pclass\n",
        "    self.name = name\n",
        "    self.sex = sex\n",
        "    self.age = age\n",
        "    self.sibsp = sibsp\n",
        "    self.parch = parch\n",
        "    self.ticket = ticket\n",
        "    self.fare = fare\n",
        "    self.cabin = cabin\n",
        "    self.embarked = embarked\n",
        "    self.survived = None\n",
        "\n",
        "  def set_survival_status(self, status):\n",
        "    self.survived = status\n",
        "\n",
        "  def __str__(self):\n",
        "    return f\"Passenger({self.passenger_id}, {self.name}, Survived: {self.survived})\""
      ]
    },
    {
      "cell_type": "markdown",
      "metadata": {
        "id": "OKkqoqUva61c"
      },
      "source": [
        "Created a class for processing and preparing a `dataframe`. For processing, we fill in the missing values using `median` and `mode` values, encode the categories containing string values by mapping the string values to integer values, and drop the columns that are not required."
      ]
    },
    {
      "cell_type": "code",
      "execution_count": 5,
      "metadata": {
        "id": "c_qjbcQXL5uc"
      },
      "outputs": [],
      "source": [
        "class DataProcessor():\n",
        "  def __init__(self, dataframe):\n",
        "    self.dataframe = dataframe\n",
        "\n",
        "  def fill_missing_values(self):\n",
        "    self.dataframe['Age'] = self.dataframe['Age'].fillna(self.dataframe['Age'].median())\n",
        "    self.dataframe['Embarked'] = self.dataframe['Embarked'].fillna(self.dataframe['Embarked'].mode()[0])\n",
        "    self.dataframe['Fare'] = self.dataframe['Fare'].fillna(self.dataframe['Fare'].median())\n",
        "\n",
        "    return self\n",
        "\n",
        "  def encode_categories(self):\n",
        "    self.dataframe['Sex'] = self.dataframe['Sex'].map({'male' : 0, 'female' : 1})\n",
        "    self.dataframe['Embarked'] = self.dataframe['Embarked'].map({'C' : 0, 'Q' : 1, 'S' : 2})\n",
        "\n",
        "    return self\n",
        "\n",
        "  def drop_unnecessary_columns(self):\n",
        "    self.dataframe = self.dataframe.drop(['Name', 'Ticket', 'Cabin'], axis = 1)\n",
        "\n",
        "    return self\n",
        "\n",
        "  def get_processed_data(self):\n",
        "    return self.dataframe"
      ]
    },
    {
      "cell_type": "markdown",
      "metadata": {
        "id": "L7NgkKMrbeoz"
      },
      "source": [
        "A child Class is inherited from parent `DataProcessor()`."
      ]
    },
    {
      "cell_type": "code",
      "execution_count": 6,
      "metadata": {
        "id": "-1hP-BQxN5a9"
      },
      "outputs": [],
      "source": [
        "class TitanicDataProcessor(DataProcessor):\n",
        "  def __init__(self, dataframe):\n",
        "    super().__init__(dataframe)\n",
        "\n",
        "  def preprocess(self):\n",
        "    self.fill_missing_values().encode_categories().drop_unnecessary_columns()\n",
        "\n",
        "    return self.get_processed_data()"
      ]
    },
    {
      "cell_type": "markdown",
      "metadata": {
        "id": "lJxU3iXTbncE"
      },
      "source": [
        "Created a Class for handling the ML model with training, prediction and evaluation methods."
      ]
    },
    {
      "cell_type": "code",
      "execution_count": 7,
      "metadata": {
        "id": "R_OyfbhrOUwt"
      },
      "outputs": [],
      "source": [
        "class Model():\n",
        "  def __init__(self, model):\n",
        "    self.model = model\n",
        "\n",
        "  def train(self, X_train, y_train):\n",
        "    self.model.fit(X_train, y_train)\n",
        "\n",
        "  def predict(self, X_test):\n",
        "    return self.model.predict(X_test)\n",
        "\n",
        "  def evaluate(self, y_test, predictions):\n",
        "    accuracy = accuracy_score(y_test, predictions)\n",
        "\n",
        "    return f\"Accuracy: {accuracy}\""
      ]
    },
    {
      "cell_type": "markdown",
      "metadata": {
        "id": "NnHN1XSa5QQa"
      },
      "source": [
        "Addionally, created a Class for fine-tuning (i.e., finding the best hyperparameters) of the ML model being used. Hyperparameters are the parameters of which value we choose before training the model."
      ]
    },
    {
      "cell_type": "code",
      "execution_count": 8,
      "metadata": {
        "id": "yuBClCRwBA7J"
      },
      "outputs": [],
      "source": [
        "class HyperparameterTuner():\n",
        "  def __init__(self, tool):\n",
        "    self.tool = tool\n",
        "\n",
        "  def train(self, X_train, y_train):\n",
        "    self.tool.fit(X_train, y_train)\n",
        "\n",
        "  def search(self):\n",
        "    best_hyperparameters = self.tool.best_params_\n",
        "\n",
        "    return f\"Best Parameters: {best_hyperparameters}\""
      ]
    },
    {
      "cell_type": "markdown",
      "metadata": {
        "id": "k_LatpMEbvjj"
      },
      "source": [
        "Finally, a `Pipeline()` class is created for managing and executing the dataset, the model and the fine-tuning."
      ]
    },
    {
      "cell_type": "code",
      "execution_count": 9,
      "metadata": {
        "id": "fj0HrA0aHGSp"
      },
      "outputs": [],
      "source": [
        "class Pipeline():\n",
        "  def __init__(self, processor, model, tool):\n",
        "    self.processor = processor\n",
        "    self.model = model\n",
        "    self.tool = tool\n",
        "\n",
        "  def run(self, dataset):\n",
        "    processed_dataset = self.processor(dataset).preprocess()\n",
        "\n",
        "    X = processed_dataset.drop('Survived', axis = 1)\n",
        "    y = processed_dataset['Survived']\n",
        "\n",
        "    X_train, X_test, y_train, y_test = train_test_split(X, y, test_size = 0.2, random_state = 42)\n",
        "\n",
        "    self.model.train(X_train, y_train)\n",
        "    predictions = self.model.predict(X_test)\n",
        "    evaluations_metric = self.model.evaluate(y_test, predictions)\n",
        "    print(evaluations_metric)\n",
        "\n",
        "    self.tool.train(X_train, y_train)\n",
        "    finetune = self.tool.search()\n",
        "    print(finetune)"
      ]
    },
    {
      "cell_type": "markdown",
      "metadata": {
        "id": "JQY2n9rnb4pL"
      },
      "source": [
        "We pick the Random Forest classifier and run the pipeline for the results."
      ]
    },
    {
      "cell_type": "code",
      "execution_count": 10,
      "metadata": {
        "colab": {
          "base_uri": "https://localhost:8080/"
        },
        "id": "bNJ5-qgyQ-aX",
        "outputId": "46c9a64a-7e2e-4716-c46c-58d417d55eb5"
      },
      "outputs": [
        {
          "name": "stdout",
          "output_type": "stream",
          "text": [
            "Model: Random Forest Classifier\n",
            "Accuracy: 0.8212290502793296\n",
            "Best Parameters: {'max_depth': 5, 'n_estimators': 300}\n"
          ]
        }
      ],
      "source": [
        "processor = TitanicDataProcessor\n",
        "model_train = Model(RandomForestClassifier())\n",
        "print(\"Model: Random Forest Classifier\")\n",
        "\n",
        "model_finetune = RandomForestClassifier()\n",
        "hyperparameters = {\n",
        "    'n_estimators': [100, 200, 300, 400],\n",
        "    'max_depth': [None, 5, 10, 20],\n",
        "}\n",
        "finetuner = GridSearchCV(estimator = model_finetune, param_grid = hyperparameters, scoring = 'accuracy')\n",
        "tool = HyperparameterTuner(finetuner)\n",
        "\n",
        "pipeline = Pipeline(processor, model_train, tool)\n",
        "pipeline.run(dataset)"
      ]
    }
  ],
  "metadata": {
    "colab": {
      "provenance": []
    },
    "kernelspec": {
      "display_name": "Python 3",
      "name": "python3"
    },
    "language_info": {
      "codemirror_mode": {
        "name": "ipython",
        "version": 3
      },
      "file_extension": ".py",
      "mimetype": "text/x-python",
      "name": "python",
      "nbconvert_exporter": "python",
      "pygments_lexer": "ipython3",
      "version": "3.12.1"
    }
  },
  "nbformat": 4,
  "nbformat_minor": 0
}
