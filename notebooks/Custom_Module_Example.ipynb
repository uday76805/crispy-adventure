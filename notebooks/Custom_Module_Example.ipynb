{
  "nbformat": 4,
  "nbformat_minor": 0,
  "metadata": {
    "colab": {
      "provenance": []
    },
    "kernelspec": {
      "name": "python3",
      "display_name": "Python 3"
    },
    "language_info": {
      "name": "python"
    }
  },
  "cells": [
    {
      "cell_type": "code",
      "execution_count": null,
      "metadata": {
        "id": "okPtogm0YIzc"
      },
      "outputs": [],
      "source": [
        "import sys\n",
        "sys.path.append('/content/drive/MyDrive/')\n",
        "\n",
        "import my_mod as mod"
      ]
    },
    {
      "cell_type": "code",
      "source": [
        "mod.my_mean([1,2,3])"
      ],
      "metadata": {
        "colab": {
          "base_uri": "https://localhost:8080/"
        },
        "id": "hkj1H0Q7ZsTb",
        "outputId": "c40df3d9-90f8-4fbd-e1ba-ec1c78840047"
      },
      "execution_count": null,
      "outputs": [
        {
          "output_type": "execute_result",
          "data": {
            "text/plain": [
              "2.0"
            ]
          },
          "metadata": {},
          "execution_count": 29
        }
      ]
    },
    {
      "cell_type": "code",
      "source": [
        "y = np.random.rand(1, 10)\n",
        "print(y)\n",
        "mod.my_mean(y)"
      ],
      "metadata": {
        "colab": {
          "base_uri": "https://localhost:8080/"
        },
        "id": "g9Hf3_KbYNXM",
        "outputId": "84fb4457-c3fc-4a24-d712-2aca2928b74b"
      },
      "execution_count": null,
      "outputs": [
        {
          "output_type": "stream",
          "name": "stdout",
          "text": [
            "[[0.01765853 0.50261499 0.38842562 0.07963322 0.6631497  0.21380248\n",
            "  0.33861793 0.87431409 0.96541619 0.21724871]]\n"
          ]
        },
        {
          "output_type": "execute_result",
          "data": {
            "text/plain": [
              "4.260881451899509"
            ]
          },
          "metadata": {},
          "execution_count": 30
        }
      ]
    }
  ]
}