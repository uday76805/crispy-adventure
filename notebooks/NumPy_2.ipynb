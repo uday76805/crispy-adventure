{
  "nbformat": 4,
  "nbformat_minor": 0,
  "metadata": {
    "colab": {
      "provenance": []
    },
    "kernelspec": {
      "name": "python3",
      "display_name": "Python 3"
    },
    "language_info": {
      "name": "python"
    }
  },
  "cells": [
    {
      "cell_type": "markdown",
      "source": [
        "Mathematical and Statistical Functions\n",
        "\n",
        "`ndarray` Methods\n",
        "\n",
        "`mean()`\n",
        "\n",
        "Computes the Mean of all the elements in the `ndarray`, regardless of the Shape.\n",
        "\n",
        "`min()`\n",
        "\n",
        "Computes the Minimum element.\n",
        "\n",
        "`max()`\n",
        "\n",
        "Computes the Maximum element.\n",
        "\n",
        "`sum()`\n",
        "\n",
        "Gives the Sum of all the elements in the Array.\n",
        "\n",
        "`prod()`\n",
        "\n",
        "Gives the Product of all the elements in the Array.\n",
        "\n",
        "`std()`\n",
        "\n",
        "Computes the Standard Deviation.\n",
        "\n",
        "`var()`\n",
        "\n",
        "Computes the Variance."
      ],
      "metadata": {
        "id": "H0bh-KVVPrYe"
      }
    },
    {
      "cell_type": "code",
      "execution_count": null,
      "metadata": {
        "id": "NW6iBRKpDp5l",
        "colab": {
          "base_uri": "https://localhost:8080/"
        },
        "outputId": "5bd27dc7-9bfb-4ac4-9d97-a3e10dd8b077"
      },
      "outputs": [
        {
          "output_type": "stream",
          "name": "stdout",
          "text": [
            "Array:\n",
            " [[-2.5  3.1  7. ]\n",
            " [10.  11.  12. ]]\n",
            "mean = 6.766666666666667\n",
            "min = -2.5\n",
            "max = 12.0\n",
            "sum = 40.6\n",
            "prod = -71610.0\n",
            "std = 5.084835843520964\n",
            "var = 25.855555555555554\n"
          ]
        }
      ],
      "source": [
        "import numpy as np\n",
        "\n",
        "a = np.array([[-2.5, 3.1, 7], [10, 11, 12]])\n",
        "print(\"Array:\\n\", a)\n",
        "\n",
        "for func in (a.mean, a.min, a.max, a.sum, a.prod, a.std, a.var):\n",
        "  print(func.__name__, \"=\", func())"
      ]
    },
    {
      "cell_type": "markdown",
      "source": [
        "These functions also accept an optional argument `axis`, which lets the operation be performed on the elements along the given Axis."
      ],
      "metadata": {
        "id": "xL9cu-A0RHpx"
      }
    },
    {
      "cell_type": "code",
      "source": [
        "a = np.arange(24).reshape(2,3,4)\n",
        "\n",
        "print(\"Sum across Matrices:\\n\", a.sum(axis = 0))\n",
        "print(\"Sum across Rows:\\n\", a.sum(axis = 1))\n",
        "print(\"Sum across Matrices and Cols:\\n\", a.sum(axis = (0, 2)))"
      ],
      "metadata": {
        "colab": {
          "base_uri": "https://localhost:8080/"
        },
        "id": "uBpVJ25HRVMX",
        "outputId": "a0b49741-da4e-4cc3-fc62-7fe53bea3b35"
      },
      "execution_count": null,
      "outputs": [
        {
          "output_type": "stream",
          "name": "stdout",
          "text": [
            "Sum across Matrices:\n",
            " [[12 14 16 18]\n",
            " [20 22 24 26]\n",
            " [28 30 32 34]]\n",
            "Sum across Rows:\n",
            " [[12 15 18 21]\n",
            " [48 51 54 57]]\n",
            "Sum across Matrices and Cols:\n",
            " [ 60  92 124]\n"
          ]
        }
      ]
    },
    {
      "cell_type": "markdown",
      "source": [
        "Universal Functions `ufunc`\n",
        "\n",
        "NumPy provides fast element-wise functions called Universal Functions or `ufunc`. They are vectorized wrappers of simple functions. For example, `square()` returns a new `ndarray` whcih is a copy of the original, except each element is squared.\n",
        "\n",
        "`np.square()`\n",
        "\n",
        "Returns new `ndarray` with each element Squared.\n",
        "\n",
        "`np.abs()`\n",
        "\n",
        "Each element in the new `ndarray` is of its Absolute Value.\n",
        "\n",
        "`np.sqrt()`\n",
        "\n",
        "Each element is Square Rooted.\n",
        "\n",
        "`np.exp()`\n",
        "\n",
        "Calculates Exponential of each element.\n",
        "\n",
        "`np.log()`\n",
        "\n",
        "Computes the Natural Logarithm of each element. It is opposite of `np.exp()`.\n",
        "\n",
        "`np.sign()`\n",
        "\n",
        "Returns element-wise indication of the Sign of the number.\n",
        "\n",
        "`np.ceil()`\n",
        "\n",
        "Gives the Ceiling of the elements.\n",
        "\n",
        "`np.modf()`\n",
        "\n",
        "Separates the Fractional and Integral parts of the elements.\n",
        "\n",
        "`np.isnan()`\n",
        "\n",
        "Tests element-wise for NaN value and returns a Boolean Array (Array with values as Boolean, True or False)\n",
        "\n",
        "\n",
        "`np.cos()`\n",
        "\n",
        "Calculates Cosine of an Array of angles given as radians."
      ],
      "metadata": {
        "id": "Fu-90m02SFzh"
      }
    },
    {
      "cell_type": "code",
      "source": [
        "a = np.array([[-2.5, 3.1, 7], [10, 11, 12]])\n",
        "np.square(a)\n",
        "\n",
        "print(\"Original Array:\\n\", a)\n",
        "print(a)\n",
        "for func in (np.square, np.abs, np.sqrt, np.exp, np.log, np.sign, np.ceil, np.modf, np.isnan, np.cos):\n",
        "    print(\"\\n\", func.__name__)\n",
        "    print(func(a))"
      ],
      "metadata": {
        "colab": {
          "base_uri": "https://localhost:8080/"
        },
        "id": "KXJ-dFYKVySo",
        "outputId": "1f08791f-5f75-4442-8ee2-5296d27655fe"
      },
      "execution_count": null,
      "outputs": [
        {
          "output_type": "stream",
          "name": "stdout",
          "text": [
            "Original Array:\n",
            " [[-2.5  3.1  7. ]\n",
            " [10.  11.  12. ]]\n",
            "[[-2.5  3.1  7. ]\n",
            " [10.  11.  12. ]]\n",
            "\n",
            " square\n",
            "[[  6.25   9.61  49.  ]\n",
            " [100.   121.   144.  ]]\n",
            "\n",
            " absolute\n",
            "[[ 2.5  3.1  7. ]\n",
            " [10.  11.  12. ]]\n",
            "\n",
            " sqrt\n",
            "[[       nan 1.76068169 2.64575131]\n",
            " [3.16227766 3.31662479 3.46410162]]\n",
            "\n",
            " exp\n",
            "[[8.20849986e-02 2.21979513e+01 1.09663316e+03]\n",
            " [2.20264658e+04 5.98741417e+04 1.62754791e+05]]\n",
            "\n",
            " log\n",
            "[[       nan 1.13140211 1.94591015]\n",
            " [2.30258509 2.39789527 2.48490665]]\n",
            "\n",
            " sign\n",
            "[[-1.  1.  1.]\n",
            " [ 1.  1.  1.]]\n",
            "\n",
            " ceil\n",
            "[[-2.  4.  7.]\n",
            " [10. 11. 12.]]\n",
            "\n",
            " modf\n",
            "(array([[-0.5,  0.1,  0. ],\n",
            "       [ 0. ,  0. ,  0. ]]), array([[-2.,  3.,  7.],\n",
            "       [10., 11., 12.]]))\n",
            "\n",
            " isnan\n",
            "[[False False False]\n",
            " [False False False]]\n",
            "\n",
            " cos\n",
            "[[-0.80114362 -0.99913515  0.75390225]\n",
            " [-0.83907153  0.0044257   0.84385396]]\n"
          ]
        },
        {
          "output_type": "stream",
          "name": "stderr",
          "text": [
            "<ipython-input-74-92fff1085eff>:8: RuntimeWarning: invalid value encountered in sqrt\n",
            "  print(func(a))\n",
            "<ipython-input-74-92fff1085eff>:8: RuntimeWarning: invalid value encountered in log\n",
            "  print(func(a))\n"
          ]
        }
      ]
    },
    {
      "cell_type": "markdown",
      "source": [
        "Note that there are two warnings generated because `np.sqrt()` and np.log() are undefined for negative numbers.\n",
        "\n",
        "Binary `ufunc`\n",
        "\n",
        "They apply element-wise on two `ndarrays`. Broadcasting rules are applied if the Arrays do not have the same Shape."
      ],
      "metadata": {
        "id": "vgxIyG1KWYog"
      }
    },
    {
      "cell_type": "code",
      "source": [
        "a = np.array([1, -2, 3, 4])\n",
        "b = np.array([2, 8, -1, 7])\n",
        "print(\"Array a\\n\", a)\n",
        "print(\"Array b\\n\", b)\n",
        "\n",
        "for func in (np.add, np.greater, np.maximum, np.copysign):\n",
        "    print(\"\\n\", func.__name__)\n",
        "    print(func(a, b))"
      ],
      "metadata": {
        "colab": {
          "base_uri": "https://localhost:8080/"
        },
        "id": "2Vtwf9MCV6T6",
        "outputId": "6e9ab9a4-9a18-412a-f393-b7fca22b6b30"
      },
      "execution_count": null,
      "outputs": [
        {
          "output_type": "stream",
          "name": "stdout",
          "text": [
            "Array a\n",
            " [ 1 -2  3  4]\n",
            "Array b\n",
            " [ 2  8 -1  7]\n",
            "\n",
            " add\n",
            "[ 3  6  2 11]\n",
            "\n",
            " greater\n",
            "[False False  True False]\n",
            "\n",
            " maximum\n",
            "[2 8 3 7]\n",
            "\n",
            " copysign\n",
            "[ 1.  2. -3.  4.]\n"
          ]
        }
      ]
    },
    {
      "cell_type": "markdown",
      "source": [
        "\n",
        "\n",
        "---\n",
        "\n",
        "\n",
        "Indexing and Slicing Arrays\n",
        "\n",
        "1-Dimensional Arrays can be accessed like the regular Python arrays."
      ],
      "metadata": {
        "id": "qIqb3wZyXitv"
      }
    },
    {
      "cell_type": "code",
      "source": [
        "a = np.array([1, 5, 3, 19, 13, 7, 3])\n",
        "print(\"Array a:\\n\", a, \"\\n\")\n",
        "\n",
        "print(\"4th element:\", a[3])\n",
        "print(\"3rd to 5th elements:\", a[2:5])"
      ],
      "metadata": {
        "colab": {
          "base_uri": "https://localhost:8080/"
        },
        "id": "ZaJ8iOH9X1YX",
        "outputId": "b6911a7b-7071-4e32-fd2f-5c817696a596"
      },
      "execution_count": null,
      "outputs": [
        {
          "output_type": "stream",
          "name": "stdout",
          "text": [
            "Array a:\n",
            " [ 1  5  3 19 13  7  3] \n",
            "\n",
            "4th element: 19\n",
            "3rd to 5th elements: [ 3 19 13]\n"
          ]
        }
      ]
    },
    {
      "cell_type": "markdown",
      "source": [
        "We can also modify the elements."
      ],
      "metadata": {
        "id": "aEs7mcTcYFmf"
      }
    },
    {
      "cell_type": "code",
      "source": [
        "a[3] = 999\n",
        "a[2:5] = [997, 998, 999]\n",
        "\n",
        "print(\"New Array a:\\n\", a)"
      ],
      "metadata": {
        "colab": {
          "base_uri": "https://localhost:8080/"
        },
        "id": "5dmlGsKCYIJO",
        "outputId": "4ff14ddf-d48a-4ec4-e482-7f0b0c15a6ef"
      },
      "execution_count": null,
      "outputs": [
        {
          "output_type": "stream",
          "name": "stdout",
          "text": [
            "New Array a:\n",
            " [  1   5 997 998 999   7   3]\n"
          ]
        }
      ]
    },
    {
      "cell_type": "markdown",
      "source": [
        "Difference from regular Python Arrays\n",
        "\n",
        "Contrary to Python lists, if we assign a single value to an `ndarray` slice, its copied across the whole slice due to Broadcasting."
      ],
      "metadata": {
        "id": "mM3gP5yNaiFm"
      }
    },
    {
      "cell_type": "code",
      "source": [
        "a[2:5] = -1\n",
        "a"
      ],
      "metadata": {
        "colab": {
          "base_uri": "https://localhost:8080/"
        },
        "id": "FfoFcUVIai82",
        "outputId": "8aa5fd40-3354-4464-a960-2d32f59ee04f"
      },
      "execution_count": null,
      "outputs": [
        {
          "output_type": "execute_result",
          "data": {
            "text/plain": [
              "array([ 1,  5, -1, -1, -1,  7,  3])"
            ]
          },
          "metadata": {},
          "execution_count": 78
        }
      ]
    },
    {
      "cell_type": "markdown",
      "source": [
        "We cannot grow or shink the `ndarray` using slices. We cannot delete elements. Most importantly, `ndarray` slices are pointing to the same data. If we create a slice and modify it, it will modify the original value in the Array as well."
      ],
      "metadata": {
        "id": "2JcVvbASYmQ3"
      }
    },
    {
      "cell_type": "code",
      "source": [
        "a_slice = a[2:6]\n",
        "a_slice[1] = 1000\n",
        "a"
      ],
      "metadata": {
        "colab": {
          "base_uri": "https://localhost:8080/"
        },
        "id": "m3J_O6sEatOm",
        "outputId": "75d920c9-f8bb-4c51-eaf3-5b7e98e80533"
      },
      "execution_count": null,
      "outputs": [
        {
          "output_type": "execute_result",
          "data": {
            "text/plain": [
              "array([   1,    5,   -1, 1000,   -1,    7,    3])"
            ]
          },
          "metadata": {},
          "execution_count": 79
        }
      ]
    },
    {
      "cell_type": "markdown",
      "source": [
        "Deep Copy\n",
        "\n",
        "We can use the `copy()` method which will leave the original Array untouched if we modify the slices on the copy. This is called creating a Deep Copy."
      ],
      "metadata": {
        "id": "VauULnpTa80f"
      }
    },
    {
      "cell_type": "code",
      "source": [
        "another_slice = a[2:6].copy()\n",
        "another_slice[1] = 3000\n",
        "a"
      ],
      "metadata": {
        "colab": {
          "base_uri": "https://localhost:8080/"
        },
        "id": "9frNiTgybHlu",
        "outputId": "c21fae87-f360-4e1e-d70b-df348bb587b3"
      },
      "execution_count": null,
      "outputs": [
        {
          "output_type": "execute_result",
          "data": {
            "text/plain": [
              "array([   1,    5,   -1, 1000,   -1,    7,    3])"
            ]
          },
          "metadata": {},
          "execution_count": 80
        }
      ]
    },
    {
      "cell_type": "markdown",
      "source": [
        "Multi-Dimensional Arrays\n",
        "\n",
        "They can be accessed in a similar way, by providing an index or a slice for each axis separated by commas."
      ],
      "metadata": {
        "id": "ayIvIKqgbZOm"
      }
    },
    {
      "cell_type": "code",
      "source": [
        "a = np.arange(48).reshape(4, 12)\n",
        "print(\"Array a:\\n\", a)\n",
        "\n",
        "print(\"\\nElement in Row 1 and Col 2:\", a[1, 2])\n",
        "print(\"\\nElements in Row 1 and All Columns:\", a[1, :])\n",
        "print(\"\\nElements in Row 1 and All Columns as a 2-D Array:\", a[1:2, :])"
      ],
      "metadata": {
        "colab": {
          "base_uri": "https://localhost:8080/"
        },
        "id": "Q7vLGRCtbmQn",
        "outputId": "616d2852-d39f-4a8d-b934-447ce00d1179"
      },
      "execution_count": null,
      "outputs": [
        {
          "output_type": "stream",
          "name": "stdout",
          "text": [
            "Array a:\n",
            " [[ 0  1  2  3  4  5  6  7  8  9 10 11]\n",
            " [12 13 14 15 16 17 18 19 20 21 22 23]\n",
            " [24 25 26 27 28 29 30 31 32 33 34 35]\n",
            " [36 37 38 39 40 41 42 43 44 45 46 47]]\n",
            "\n",
            "Element in Row 1 and Col 2: 14\n",
            "\n",
            "Elements in Row 1 and All Columns: [12 13 14 15 16 17 18 19 20 21 22 23]\n",
            "\n",
            "Elements in Row 1 and All Columns as a 2-D Array: [[12 13 14 15 16 17 18 19 20 21 22 23]]\n"
          ]
        }
      ]
    },
    {
      "cell_type": "markdown",
      "source": [
        "Fancy Indexing\n",
        "\n",
        "We can specify a list of indices that we are interested in."
      ],
      "metadata": {
        "id": "dv1q4L5GcYkG"
      }
    },
    {
      "cell_type": "code",
      "source": [
        "# Rows 0 and 2, Cols 2 to 4\n",
        "a[(0, 2), 2:5]"
      ],
      "metadata": {
        "colab": {
          "base_uri": "https://localhost:8080/"
        },
        "id": "TpjJYA26cedO",
        "outputId": "a35d9eda-74cd-4ba7-f5e9-73073b614603"
      },
      "execution_count": null,
      "outputs": [
        {
          "output_type": "execute_result",
          "data": {
            "text/plain": [
              "array([[ 2,  3,  4],\n",
              "       [26, 27, 28]])"
            ]
          },
          "metadata": {},
          "execution_count": 82
        }
      ]
    },
    {
      "cell_type": "markdown",
      "source": [
        "Higher Dimensions"
      ],
      "metadata": {
        "id": "kCZCvPTKcrq1"
      }
    },
    {
      "cell_type": "code",
      "source": [
        "b = a.reshape(4, 2, 6)\n",
        "\n",
        "# Element at Matrix 2, Row 1 and Col 4\n",
        "b[2, 1, 4]"
      ],
      "metadata": {
        "colab": {
          "base_uri": "https://localhost:8080/"
        },
        "id": "VhEa1f4bc0lm",
        "outputId": "6fd2c3e8-3df6-4a54-c6c2-397024eac938"
      },
      "execution_count": null,
      "outputs": [
        {
          "output_type": "execute_result",
          "data": {
            "text/plain": [
              "34"
            ]
          },
          "metadata": {},
          "execution_count": 83
        }
      ]
    },
    {
      "cell_type": "markdown",
      "source": [
        "If we omit coordinates for some Axes, then all elements are returned"
      ],
      "metadata": {
        "id": "Nw1iHwsIdoPU"
      }
    },
    {
      "cell_type": "code",
      "source": [
        "b[2, 1] # Matrix 2, Row 1 and All Cols, equivalent to b[2, 1, :]"
      ],
      "metadata": {
        "colab": {
          "base_uri": "https://localhost:8080/"
        },
        "id": "yLFGv96VdsdR",
        "outputId": "dd727b1c-7929-42c4-9a30-76ba50ee80d5"
      },
      "execution_count": null,
      "outputs": [
        {
          "output_type": "execute_result",
          "data": {
            "text/plain": [
              "array([30, 31, 32, 33, 34, 35])"
            ]
          },
          "metadata": {},
          "execution_count": 84
        }
      ]
    },
    {
      "cell_type": "markdown",
      "source": [
        "Ellipsis `...`\n",
        "\n",
        "We can write an Ellipsis to ask that all non-specified Axes be included"
      ],
      "metadata": {
        "id": "lRv0UkBed4bN"
      }
    },
    {
      "cell_type": "code",
      "source": [
        "b[2, ...] # Equivalent to b[2, :, :]"
      ],
      "metadata": {
        "colab": {
          "base_uri": "https://localhost:8080/"
        },
        "id": "4hYoexDReD_t",
        "outputId": "e7f4d9e7-b41b-4123-e3d0-f27be82d2a72"
      },
      "execution_count": null,
      "outputs": [
        {
          "output_type": "execute_result",
          "data": {
            "text/plain": [
              "array([[24, 25, 26, 27, 28, 29],\n",
              "       [30, 31, 32, 33, 34, 35]])"
            ]
          },
          "metadata": {},
          "execution_count": 85
        }
      ]
    },
    {
      "cell_type": "markdown",
      "source": [
        "\n",
        "\n",
        "---\n",
        "\n",
        "\n",
        "Iterating Arrays\n",
        "\n",
        "It is similar to iterating over regular Python lists. Note that iterating over Multi-Dimensional Arrays is done with respect to first Axis."
      ],
      "metadata": {
        "id": "F2zw00eDg0Zd"
      }
    },
    {
      "cell_type": "code",
      "source": [
        "c = np.arange(24).reshape(2, 3, 4) # We take a 3-D Array (composed of two 2-D Matrices)\n",
        "print(\"Array c:\\n\", c)\n",
        "print(\"\\n\")\n",
        "\n",
        "for m in c:\n",
        "  print(\"Item:\")\n",
        "  print(m)\n",
        "\n",
        "print(\"\\n\")\n",
        "\n",
        "for i in range(len(c)):\n",
        "  print(\"Item:\")\n",
        "  print(c[i])\n",
        "\n",
        "print(\"\\n\")\n",
        "\n",
        "for i in c.flat:\n",
        "  print(\"Item:\", i)"
      ],
      "metadata": {
        "colab": {
          "base_uri": "https://localhost:8080/"
        },
        "id": "EW4YCxD5hOJ2",
        "outputId": "0bdc76fb-f491-4171-fb6b-6362db40d1ed"
      },
      "execution_count": null,
      "outputs": [
        {
          "output_type": "stream",
          "name": "stdout",
          "text": [
            "Array c:\n",
            " [[[ 0  1  2  3]\n",
            "  [ 4  5  6  7]\n",
            "  [ 8  9 10 11]]\n",
            "\n",
            " [[12 13 14 15]\n",
            "  [16 17 18 19]\n",
            "  [20 21 22 23]]]\n",
            "\n",
            "\n",
            "Item:\n",
            "[[ 0  1  2  3]\n",
            " [ 4  5  6  7]\n",
            " [ 8  9 10 11]]\n",
            "Item:\n",
            "[[12 13 14 15]\n",
            " [16 17 18 19]\n",
            " [20 21 22 23]]\n",
            "\n",
            "\n",
            "Item:\n",
            "[[ 0  1  2  3]\n",
            " [ 4  5  6  7]\n",
            " [ 8  9 10 11]]\n",
            "Item:\n",
            "[[12 13 14 15]\n",
            " [16 17 18 19]\n",
            " [20 21 22 23]]\n",
            "\n",
            "\n",
            "Item: 0\n",
            "Item: 1\n",
            "Item: 2\n",
            "Item: 3\n",
            "Item: 4\n",
            "Item: 5\n",
            "Item: 6\n",
            "Item: 7\n",
            "Item: 8\n",
            "Item: 9\n",
            "Item: 10\n",
            "Item: 11\n",
            "Item: 12\n",
            "Item: 13\n",
            "Item: 14\n",
            "Item: 15\n",
            "Item: 16\n",
            "Item: 17\n",
            "Item: 18\n",
            "Item: 19\n",
            "Item: 20\n",
            "Item: 21\n",
            "Item: 22\n",
            "Item: 23\n"
          ]
        }
      ]
    },
    {
      "cell_type": "markdown",
      "source": [
        "\n",
        "\n",
        "---\n",
        "\n",
        "\n",
        "Stacking Arrays\n",
        "\n",
        "It can be useful to Stack different Arrays.\n",
        "\n",
        "`vstack()`\n",
        "\n",
        "We can use `vstack()` to vertically Stack Arrays. They must have same number of Columns."
      ],
      "metadata": {
        "id": "isQqtSMKinym"
      }
    },
    {
      "cell_type": "code",
      "source": [
        "q1 = np.full((3, 4), 1.0)\n",
        "q2 = np.full((4, 4), 2.0)\n",
        "q3 = np.full((3, 4), 3.0)\n",
        "print(\"Array q1\\n\", q1)\n",
        "print(\"Array q2\\n\", q2)\n",
        "print(\"Array q3\\n\", q3)\n",
        "print(\"\\n\")\n",
        "\n",
        "q4 = np.vstack((q1, q2, q3))\n",
        "q4"
      ],
      "metadata": {
        "colab": {
          "base_uri": "https://localhost:8080/"
        },
        "id": "MqhGThWfiyke",
        "outputId": "15526af4-0f2f-45b2-a7f6-cabc61520ce4"
      },
      "execution_count": null,
      "outputs": [
        {
          "output_type": "stream",
          "name": "stdout",
          "text": [
            "Array q1\n",
            " [[1. 1. 1. 1.]\n",
            " [1. 1. 1. 1.]\n",
            " [1. 1. 1. 1.]]\n",
            "Array q2\n",
            " [[2. 2. 2. 2.]\n",
            " [2. 2. 2. 2.]\n",
            " [2. 2. 2. 2.]\n",
            " [2. 2. 2. 2.]]\n",
            "Array q3\n",
            " [[3. 3. 3. 3.]\n",
            " [3. 3. 3. 3.]\n",
            " [3. 3. 3. 3.]]\n",
            "\n",
            "\n"
          ]
        },
        {
          "output_type": "execute_result",
          "data": {
            "text/plain": [
              "array([[1., 1., 1., 1.],\n",
              "       [1., 1., 1., 1.],\n",
              "       [1., 1., 1., 1.],\n",
              "       [2., 2., 2., 2.],\n",
              "       [2., 2., 2., 2.],\n",
              "       [2., 2., 2., 2.],\n",
              "       [2., 2., 2., 2.],\n",
              "       [3., 3., 3., 3.],\n",
              "       [3., 3., 3., 3.],\n",
              "       [3., 3., 3., 3.]])"
            ]
          },
          "metadata": {},
          "execution_count": 87
        }
      ]
    },
    {
      "cell_type": "markdown",
      "source": [
        "`hstack()`\n",
        "\n",
        "We can use `hstack()` to vertically Stack Arrays. They must have same number of Rows."
      ],
      "metadata": {
        "id": "wTPfhzWVkSxF"
      }
    },
    {
      "cell_type": "code",
      "source": [
        "q5 = np.hstack((q1, q3))\n",
        "q5"
      ],
      "metadata": {
        "colab": {
          "base_uri": "https://localhost:8080/"
        },
        "id": "ZiDH9Ssrkd5F",
        "outputId": "ff8b7128-fa61-4e7e-8382-f57bdc1119e3"
      },
      "execution_count": null,
      "outputs": [
        {
          "output_type": "execute_result",
          "data": {
            "text/plain": [
              "array([[1., 1., 1., 1., 3., 3., 3., 3.],\n",
              "       [1., 1., 1., 1., 3., 3., 3., 3.],\n",
              "       [1., 1., 1., 1., 3., 3., 3., 3.]])"
            ]
          },
          "metadata": {},
          "execution_count": 88
        }
      ]
    },
    {
      "cell_type": "markdown",
      "source": [
        "`concatenate()`\n",
        "\n",
        "It Stacks Arrays along any given existing Axis."
      ],
      "metadata": {
        "id": "7ty_dURZks3V"
      }
    },
    {
      "cell_type": "code",
      "source": [
        "q6 = np.concatenate((q1, q2, q3), axis = 0) # Equivalent to vstack\n",
        "q6\n",
        "# hstack is equivalent to calling concatenate with Axis = 1"
      ],
      "metadata": {
        "colab": {
          "base_uri": "https://localhost:8080/"
        },
        "id": "iYVgtUZAk289",
        "outputId": "4c594292-3958-434f-9979-66eb766e9ab6"
      },
      "execution_count": null,
      "outputs": [
        {
          "output_type": "execute_result",
          "data": {
            "text/plain": [
              "array([[1., 1., 1., 1.],\n",
              "       [1., 1., 1., 1.],\n",
              "       [1., 1., 1., 1.],\n",
              "       [2., 2., 2., 2.],\n",
              "       [2., 2., 2., 2.],\n",
              "       [2., 2., 2., 2.],\n",
              "       [2., 2., 2., 2.],\n",
              "       [3., 3., 3., 3.],\n",
              "       [3., 3., 3., 3.],\n",
              "       [3., 3., 3., 3.]])"
            ]
          },
          "metadata": {},
          "execution_count": 89
        }
      ]
    },
    {
      "cell_type": "markdown",
      "source": [
        "`stack()`\n",
        "\n",
        "It Stacks Arrays along a new Axis. Note that all Arrays have to have the same Shape."
      ],
      "metadata": {
        "id": "v-cauYCclbw8"
      }
    },
    {
      "cell_type": "code",
      "source": [
        "q7 = np.stack((q1, q3))\n",
        "q7"
      ],
      "metadata": {
        "colab": {
          "base_uri": "https://localhost:8080/"
        },
        "id": "OiYjojaOl20f",
        "outputId": "e8b7f44e-41ee-48c5-ecc0-006633931c2e"
      },
      "execution_count": null,
      "outputs": [
        {
          "output_type": "execute_result",
          "data": {
            "text/plain": [
              "array([[[1., 1., 1., 1.],\n",
              "        [1., 1., 1., 1.],\n",
              "        [1., 1., 1., 1.]],\n",
              "\n",
              "       [[3., 3., 3., 3.],\n",
              "        [3., 3., 3., 3.],\n",
              "        [3., 3., 3., 3.]]])"
            ]
          },
          "metadata": {},
          "execution_count": 90
        }
      ]
    },
    {
      "cell_type": "markdown",
      "source": [
        "\n",
        "\n",
        "---\n",
        "\n",
        "\n",
        "Splitting Arrays\n",
        "\n",
        "It is the opposite of Stacking.\n",
        "\n",
        "`vsplit()`\n",
        "\n",
        "Splits into equal parts vertically."
      ],
      "metadata": {
        "id": "gPGSAm6zmMbm"
      }
    },
    {
      "cell_type": "code",
      "source": [
        "r = np.arange(24).reshape(6, 4)\n",
        "print(\"Array r:\", r)\n",
        "print(\"\\n\")\n",
        "\n",
        "r1, r2, r3 = np.vsplit(r, 3)\n",
        "r1, r2, r3"
      ],
      "metadata": {
        "colab": {
          "base_uri": "https://localhost:8080/"
        },
        "id": "rqferUy5m2il",
        "outputId": "4a9bc3c9-34cf-42bf-8e45-ab1304140217"
      },
      "execution_count": null,
      "outputs": [
        {
          "output_type": "stream",
          "name": "stdout",
          "text": [
            "Array r: [[ 0  1  2  3]\n",
            " [ 4  5  6  7]\n",
            " [ 8  9 10 11]\n",
            " [12 13 14 15]\n",
            " [16 17 18 19]\n",
            " [20 21 22 23]]\n",
            "\n",
            "\n"
          ]
        },
        {
          "output_type": "execute_result",
          "data": {
            "text/plain": [
              "(array([[0, 1, 2, 3],\n",
              "        [4, 5, 6, 7]]),\n",
              " array([[ 8,  9, 10, 11],\n",
              "        [12, 13, 14, 15]]),\n",
              " array([[16, 17, 18, 19],\n",
              "        [20, 21, 22, 23]]))"
            ]
          },
          "metadata": {},
          "execution_count": 91
        }
      ]
    },
    {
      "cell_type": "markdown",
      "source": [
        "`hsplit()`\n",
        "\n",
        "Splits an Array equally horizontally."
      ],
      "metadata": {
        "id": "dMfiW7dxnJC9"
      }
    },
    {
      "cell_type": "code",
      "source": [
        "r4, r5 = np.hsplit(r, 2)\n",
        "r4, r5"
      ],
      "metadata": {
        "colab": {
          "base_uri": "https://localhost:8080/"
        },
        "id": "dfg9FCUfnof1",
        "outputId": "8cf1dada-3fb9-4f2f-971a-a31dbb46a2f7"
      },
      "execution_count": null,
      "outputs": [
        {
          "output_type": "execute_result",
          "data": {
            "text/plain": [
              "(array([[ 0,  1],\n",
              "        [ 4,  5],\n",
              "        [ 8,  9],\n",
              "        [12, 13],\n",
              "        [16, 17],\n",
              "        [20, 21]]),\n",
              " array([[ 2,  3],\n",
              "        [ 6,  7],\n",
              "        [10, 11],\n",
              "        [14, 15],\n",
              "        [18, 19],\n",
              "        [22, 23]]))"
            ]
          },
          "metadata": {},
          "execution_count": 92
        }
      ]
    },
    {
      "cell_type": "markdown",
      "source": [
        "`split()`\n",
        "\n",
        "Splits an Array along any given Axis. `vsplit()` is equivalent to `split()` with Axis = 0 and `hsplit()` is equivalent to `split()` with Axis = 1."
      ],
      "metadata": {
        "id": "4-Rl3l3MnLhl"
      }
    },
    {
      "cell_type": "markdown",
      "source": [
        "\n",
        "\n",
        "---\n",
        "\n",
        "\n",
        "Transposing Arrays\n",
        "\n",
        "`transpose()` method create a new view of an `ndarray`'s data, with Axes permuted in the given order. By default, `transpose()` reverses the order of the dimensions."
      ],
      "metadata": {
        "id": "QFql0zbnoG7M"
      }
    },
    {
      "cell_type": "code",
      "source": [
        "t = np.arange(24).reshape(4,2,3)\n",
        "print(\"Array t:\\n\", t)\n",
        "print(\"\\n\")\n",
        "\n",
        "t1 = t.transpose((1, 2, 0)) # Axes (0, 1, 2) become (1, 2, 0)\n",
        "t1"
      ],
      "metadata": {
        "colab": {
          "base_uri": "https://localhost:8080/"
        },
        "id": "S2eSSodtoe3d",
        "outputId": "2502eb25-ecf3-4051-bb2a-1892e1ecf5d7"
      },
      "execution_count": null,
      "outputs": [
        {
          "output_type": "stream",
          "name": "stdout",
          "text": [
            "Array t:\n",
            " [[[ 0  1  2]\n",
            "  [ 3  4  5]]\n",
            "\n",
            " [[ 6  7  8]\n",
            "  [ 9 10 11]]\n",
            "\n",
            " [[12 13 14]\n",
            "  [15 16 17]]\n",
            "\n",
            " [[18 19 20]\n",
            "  [21 22 23]]]\n",
            "\n",
            "\n"
          ]
        },
        {
          "output_type": "execute_result",
          "data": {
            "text/plain": [
              "array([[[ 0,  6, 12, 18],\n",
              "        [ 1,  7, 13, 19],\n",
              "        [ 2,  8, 14, 20]],\n",
              "\n",
              "       [[ 3,  9, 15, 21],\n",
              "        [ 4, 10, 16, 22],\n",
              "        [ 5, 11, 17, 23]]])"
            ]
          },
          "metadata": {},
          "execution_count": 93
        }
      ]
    },
    {
      "cell_type": "markdown",
      "source": [
        "There is also a convenient function to swap any two Axes called `swapaxes()`."
      ],
      "metadata": {
        "id": "tImO18j3o8_7"
      }
    },
    {
      "cell_type": "code",
      "source": [
        "t3 = t.swapaxes(0, 1) # Axes (0, 1, 2) become (1, 0, 2)\n",
        "t3"
      ],
      "metadata": {
        "colab": {
          "base_uri": "https://localhost:8080/"
        },
        "id": "Z1lctx3upGNF",
        "outputId": "bf7ac415-f39d-4e04-fca7-4eaab693632f"
      },
      "execution_count": null,
      "outputs": [
        {
          "output_type": "execute_result",
          "data": {
            "text/plain": [
              "array([[[ 0,  1,  2],\n",
              "        [ 6,  7,  8],\n",
              "        [12, 13, 14],\n",
              "        [18, 19, 20]],\n",
              "\n",
              "       [[ 3,  4,  5],\n",
              "        [ 9, 10, 11],\n",
              "        [15, 16, 17],\n",
              "        [21, 22, 23]]])"
            ]
          },
          "metadata": {},
          "execution_count": 94
        }
      ]
    }
  ]
}