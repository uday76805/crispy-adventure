{
  "nbformat": 4,
  "nbformat_minor": 0,
  "metadata": {
    "colab": {
      "provenance": []
    },
    "kernelspec": {
      "name": "python3",
      "display_name": "Python 3"
    },
    "language_info": {
      "name": "python"
    }
  },
  "cells": [
    {
      "cell_type": "markdown",
      "source": [
        "NumPy\n",
        "\n",
        "A Python library for scientific computing, centered around N-Dimensional Arrays."
      ],
      "metadata": {
        "id": "uR2Qtwp7Lj5a"
      }
    },
    {
      "cell_type": "code",
      "source": [
        "import numpy as np\n",
        "\n",
        "a = np.zeros((3, 4))\n",
        "a"
      ],
      "metadata": {
        "colab": {
          "base_uri": "https://localhost:8080/"
        },
        "id": "oNuIH_qmPA0G",
        "outputId": "df569954-ac93-4491-ef39-693d2caca029"
      },
      "execution_count": null,
      "outputs": [
        {
          "output_type": "execute_result",
          "data": {
            "text/plain": [
              "array([[0., 0., 0., 0.],\n",
              "       [0., 0., 0., 0.],\n",
              "       [0., 0., 0., 0.]])"
            ]
          },
          "metadata": {},
          "execution_count": 7
        }
      ]
    },
    {
      "cell_type": "markdown",
      "source": [
        "Axis\n",
        "\n",
        "In NumPy, each Dimension is called Axis.\n",
        "\n",
        "Rank\n",
        "\n",
        "Number of Axes = Rank"
      ],
      "metadata": {
        "id": "o30oDs4fa-75"
      }
    },
    {
      "cell_type": "code",
      "source": [
        "a.ndim"
      ],
      "metadata": {
        "colab": {
          "base_uri": "https://localhost:8080/"
        },
        "id": "E62fxC1aPFoN",
        "outputId": "7b0ddd78-44f1-4095-cc74-863d081d8272"
      },
      "execution_count": null,
      "outputs": [
        {
          "output_type": "execute_result",
          "data": {
            "text/plain": [
              "2"
            ]
          },
          "metadata": {},
          "execution_count": 8
        }
      ]
    },
    {
      "cell_type": "markdown",
      "source": [
        "Shape\n",
        "\n",
        "An Array's lists of Axes length is called Shape of the Array."
      ],
      "metadata": {
        "id": "ZDLTYGi_PFCl"
      }
    },
    {
      "cell_type": "code",
      "source": [
        "a.shape"
      ],
      "metadata": {
        "colab": {
          "base_uri": "https://localhost:8080/"
        },
        "id": "aCWu72pCaryM",
        "outputId": "af5a5c29-7ae8-4368-f131-e90d696b8ccc"
      },
      "execution_count": null,
      "outputs": [
        {
          "output_type": "execute_result",
          "data": {
            "text/plain": [
              "(3, 4)"
            ]
          },
          "metadata": {},
          "execution_count": 9
        }
      ]
    },
    {
      "cell_type": "markdown",
      "source": [
        "Size\n",
        "\n",
        "Size of an Array is total number of elements, which is the product of all Axis lengths."
      ],
      "metadata": {
        "id": "CzeUZVxLbd7j"
      }
    },
    {
      "cell_type": "code",
      "source": [
        "a.size"
      ],
      "metadata": {
        "colab": {
          "base_uri": "https://localhost:8080/"
        },
        "id": "tQ_zxCJdbluw",
        "outputId": "77a31bcf-74dd-4694-c595-f8d1342105f9"
      },
      "execution_count": null,
      "outputs": [
        {
          "output_type": "execute_result",
          "data": {
            "text/plain": [
              "12"
            ]
          },
          "metadata": {},
          "execution_count": 10
        }
      ]
    },
    {
      "cell_type": "markdown",
      "source": [
        "NumPy Array Datatype\n",
        "\n",
        "NumPy Arrays have the Datatype `ndarray`. They are effecient, in part because all their elements must have the same Datatype (usually `int` or `float`)."
      ],
      "metadata": {
        "id": "ZZ7LXfxeMeAZ"
      }
    },
    {
      "cell_type": "code",
      "source": [
        "print(a.dtype)\n",
        "type(a)"
      ],
      "metadata": {
        "colab": {
          "base_uri": "https://localhost:8080/"
        },
        "id": "W7LzaPusbsgp",
        "outputId": "5268dd96-9ed7-4c42-d2d0-d260cbb484be"
      },
      "execution_count": null,
      "outputs": [
        {
          "output_type": "stream",
          "name": "stdout",
          "text": [
            "float64\n"
          ]
        },
        {
          "output_type": "execute_result",
          "data": {
            "text/plain": [
              "numpy.ndarray"
            ]
          },
          "metadata": {},
          "execution_count": 11
        }
      ]
    },
    {
      "cell_type": "markdown",
      "source": [
        "\n",
        "\n",
        "---\n",
        "\n",
        "\n",
        "Methods to Create Arrays\n",
        "\n",
        "`np.zeros()`\n",
        "\n",
        "Array containing any number of zeros."
      ],
      "metadata": {
        "id": "3REAwX15PkD2"
      }
    },
    {
      "cell_type": "code",
      "source": [
        "np.zeros((3, 4))"
      ],
      "metadata": {
        "colab": {
          "base_uri": "https://localhost:8080/"
        },
        "id": "n-Cz2LaKPlL2",
        "outputId": "fa2c464d-1b38-4620-87ea-124745cda60f"
      },
      "execution_count": null,
      "outputs": [
        {
          "output_type": "execute_result",
          "data": {
            "text/plain": [
              "array([[0., 0., 0., 0.],\n",
              "       [0., 0., 0., 0.],\n",
              "       [0., 0., 0., 0.]])"
            ]
          },
          "metadata": {},
          "execution_count": 12
        }
      ]
    },
    {
      "cell_type": "markdown",
      "source": [
        "`np.ones()`\n",
        "\n",
        "Array containing any number of ones."
      ],
      "metadata": {
        "id": "BC_dZm-WPoo1"
      }
    },
    {
      "cell_type": "code",
      "execution_count": null,
      "metadata": {
        "colab": {
          "base_uri": "https://localhost:8080/"
        },
        "id": "6_Ebz3DEKVFb",
        "outputId": "4418334d-a055-4e66-9115-5c34b5d59ec9"
      },
      "outputs": [
        {
          "output_type": "execute_result",
          "data": {
            "text/plain": [
              "array([[1., 1., 1., 1.],\n",
              "       [1., 1., 1., 1.],\n",
              "       [1., 1., 1., 1.]])"
            ]
          },
          "metadata": {},
          "execution_count": 13
        }
      ],
      "source": [
        "np.ones((3, 4))"
      ]
    },
    {
      "cell_type": "markdown",
      "source": [
        "`np.full()`\n",
        "\n",
        "Array of a given shape initialized with given values."
      ],
      "metadata": {
        "id": "07PkF8RMPvNe"
      }
    },
    {
      "cell_type": "code",
      "source": [
        "np.full((3, 4), np.pi)"
      ],
      "metadata": {
        "colab": {
          "base_uri": "https://localhost:8080/"
        },
        "id": "fphCYj86P1Ue",
        "outputId": "8c2c1bb5-1abc-47ac-ebe2-78e59aa5170a"
      },
      "execution_count": null,
      "outputs": [
        {
          "output_type": "execute_result",
          "data": {
            "text/plain": [
              "array([[3.14159265, 3.14159265, 3.14159265, 3.14159265],\n",
              "       [3.14159265, 3.14159265, 3.14159265, 3.14159265],\n",
              "       [3.14159265, 3.14159265, 3.14159265, 3.14159265]])"
            ]
          },
          "metadata": {},
          "execution_count": 14
        }
      ]
    },
    {
      "cell_type": "markdown",
      "source": [
        "`np.empty()`\n",
        "\n",
        "Uninialized Array with random values."
      ],
      "metadata": {
        "id": "kOhSaeQyP6LX"
      }
    },
    {
      "cell_type": "code",
      "source": [
        "np.empty((2, 3))"
      ],
      "metadata": {
        "colab": {
          "base_uri": "https://localhost:8080/"
        },
        "id": "R2JfoHmoP_nW",
        "outputId": "e2e17dce-ce26-482c-caa4-3559f1a9b91d"
      },
      "execution_count": null,
      "outputs": [
        {
          "output_type": "execute_result",
          "data": {
            "text/plain": [
              "array([[4.76181362e-310, 0.00000000e+000, 2.14321575e-312],\n",
              "       [3.01694968e+174, 6.01334504e-154, 4.63366149e+228]])"
            ]
          },
          "metadata": {},
          "execution_count": 15
        }
      ]
    },
    {
      "cell_type": "markdown",
      "source": [
        "`np.array()`\n",
        "\n",
        "Array using regular Python lists."
      ],
      "metadata": {
        "id": "zsc5giF_QMxe"
      }
    },
    {
      "cell_type": "code",
      "source": [
        "np.array([[1, 2, 3, 4], [10, 20, 30, 40]])"
      ],
      "metadata": {
        "colab": {
          "base_uri": "https://localhost:8080/"
        },
        "id": "11a_9U2lQPQm",
        "outputId": "33691a36-6336-4c3d-9c67-db83d0ee7f77"
      },
      "execution_count": null,
      "outputs": [
        {
          "output_type": "execute_result",
          "data": {
            "text/plain": [
              "array([[ 1,  2,  3,  4],\n",
              "       [10, 20, 30, 40]])"
            ]
          },
          "metadata": {},
          "execution_count": 16
        }
      ]
    },
    {
      "cell_type": "markdown",
      "source": [
        "`np.arange()`\n",
        "\n",
        "Similar to Python's range() function, also works with `float` but then exact number of elements is not predictable."
      ],
      "metadata": {
        "id": "pqxXnZyAQZL2"
      }
    },
    {
      "cell_type": "code",
      "source": [
        "np.arange(1.0, 5.0)"
      ],
      "metadata": {
        "colab": {
          "base_uri": "https://localhost:8080/"
        },
        "id": "2fNO9xC_Qev-",
        "outputId": "dd79459e-34f3-4699-a25f-6bdf785c31b8"
      },
      "execution_count": null,
      "outputs": [
        {
          "output_type": "execute_result",
          "data": {
            "text/plain": [
              "array([1., 2., 3., 4.])"
            ]
          },
          "metadata": {},
          "execution_count": 17
        }
      ]
    },
    {
      "cell_type": "markdown",
      "source": [
        "`np.linspace()`\n",
        "\n",
        "Array containing specific number of points evenly distributed between two values, prefered when working with `float`."
      ],
      "metadata": {
        "id": "Ufos3RYdQ4rm"
      }
    },
    {
      "cell_type": "code",
      "source": [
        "np.linspace(0, 5/3, 6)"
      ],
      "metadata": {
        "colab": {
          "base_uri": "https://localhost:8080/"
        },
        "id": "yXguF05RQwXK",
        "outputId": "68461cc2-aff8-4dcd-b8ba-46a6980a23da"
      },
      "execution_count": null,
      "outputs": [
        {
          "output_type": "execute_result",
          "data": {
            "text/plain": [
              "array([0.        , 0.33333333, 0.66666667, 1.        , 1.33333333,\n",
              "       1.66666667])"
            ]
          },
          "metadata": {},
          "execution_count": 18
        }
      ]
    },
    {
      "cell_type": "markdown",
      "source": [
        "`np.random.rand()`\n",
        "\n",
        "Array of random values over normal distribution between 0 and 1 using NumPy's `random` module."
      ],
      "metadata": {
        "id": "HlqmTU8SRHAP"
      }
    },
    {
      "cell_type": "code",
      "source": [
        "np.random.rand(3, 4)"
      ],
      "metadata": {
        "colab": {
          "base_uri": "https://localhost:8080/"
        },
        "id": "gzQ1N-OWRKBH",
        "outputId": "10735d63-e322-4074-f987-aeaaf7e5d388"
      },
      "execution_count": null,
      "outputs": [
        {
          "output_type": "execute_result",
          "data": {
            "text/plain": [
              "array([[0.26764708, 0.02826441, 0.48567653, 0.68902607],\n",
              "       [0.57381352, 0.97159152, 0.81810451, 0.21963394],\n",
              "       [0.37454658, 0.36939692, 0.8913614 , 0.49618736]])"
            ]
          },
          "metadata": {},
          "execution_count": 19
        }
      ]
    },
    {
      "cell_type": "markdown",
      "source": [
        "`np.random.randn()`\n",
        "\n",
        "Array of random floats from univariate normal distribution (Gaussian distribution) with mean = 0 and variance = 1 using NumPy's `random` module."
      ],
      "metadata": {
        "id": "FinaSGovRZC_"
      }
    },
    {
      "cell_type": "code",
      "source": [
        "np.random.randn(3, 4)"
      ],
      "metadata": {
        "colab": {
          "base_uri": "https://localhost:8080/"
        },
        "id": "ALTaYoBtRcx_",
        "outputId": "70db84d0-c3dd-413d-d128-4d7841672f4f"
      },
      "execution_count": null,
      "outputs": [
        {
          "output_type": "execute_result",
          "data": {
            "text/plain": [
              "array([[ 0.78864505, -0.97236768,  0.66102874,  0.40435894],\n",
              "       [ 0.94356429, -1.22387237, -0.78787809, -0.79448209],\n",
              "       [ 0.46421099, -0.34509875,  0.02054196,  1.47559862]])"
            ]
          },
          "metadata": {},
          "execution_count": 20
        }
      ]
    },
    {
      "cell_type": "markdown",
      "source": [
        "`np.fromfunction()`\n",
        "\n",
        "Array using values from a function."
      ],
      "metadata": {
        "id": "cgBlFx3bR2dv"
      }
    },
    {
      "cell_type": "code",
      "source": [
        "# To create values\n",
        "def my_function(z, y, x):\n",
        "  return x + 10 * y + 100 * z\n",
        "\n",
        "np.fromfunction(my_function, (3, 2, 10))"
      ],
      "metadata": {
        "colab": {
          "base_uri": "https://localhost:8080/"
        },
        "id": "ronDfvNdR-ci",
        "outputId": "890c685c-9482-4f9e-df97-82fe070d6bf4"
      },
      "execution_count": null,
      "outputs": [
        {
          "output_type": "execute_result",
          "data": {
            "text/plain": [
              "array([[[  0.,   1.,   2.,   3.,   4.,   5.,   6.,   7.,   8.,   9.],\n",
              "        [ 10.,  11.,  12.,  13.,  14.,  15.,  16.,  17.,  18.,  19.]],\n",
              "\n",
              "       [[100., 101., 102., 103., 104., 105., 106., 107., 108., 109.],\n",
              "        [110., 111., 112., 113., 114., 115., 116., 117., 118., 119.]],\n",
              "\n",
              "       [[200., 201., 202., 203., 204., 205., 206., 207., 208., 209.],\n",
              "        [210., 211., 212., 213., 214., 215., 216., 217., 218., 219.]]])"
            ]
          },
          "metadata": {},
          "execution_count": 21
        }
      ]
    },
    {
      "cell_type": "markdown",
      "source": [
        "\n",
        "\n",
        "---\n",
        "\n",
        "\n",
        "Reshaping an Array\n",
        "\n",
        "One way is manually changing shape attributes of an Array such that Array's size remains the same."
      ],
      "metadata": {
        "id": "pcy7JWp6SS8_"
      }
    },
    {
      "cell_type": "code",
      "source": [
        "g = np.arange(24)\n",
        "print(g)\n",
        "print(\"Rank:\", g.ndim)\n",
        "\n",
        "g.shape = (6, 4)\n",
        "print(g)\n",
        "print(\"Rank:\", g.ndim)"
      ],
      "metadata": {
        "colab": {
          "base_uri": "https://localhost:8080/"
        },
        "id": "ScKuvRvGcq7C",
        "outputId": "16801ed8-ea31-4943-8b5d-7756fd46e7f5"
      },
      "execution_count": null,
      "outputs": [
        {
          "output_type": "stream",
          "name": "stdout",
          "text": [
            "[ 0  1  2  3  4  5  6  7  8  9 10 11 12 13 14 15 16 17 18 19 20 21 22 23]\n",
            "Rank: 1\n",
            "[[ 0  1  2  3]\n",
            " [ 4  5  6  7]\n",
            " [ 8  9 10 11]\n",
            " [12 13 14 15]\n",
            " [16 17 18 19]\n",
            " [20 21 22 23]]\n",
            "Rank: 2\n"
          ]
        }
      ]
    },
    {
      "cell_type": "markdown",
      "source": [
        "`reshape()`\n",
        "\n",
        "Using `reshape()` function to return a new Array pointing at the same data. If we modify elements of new Array, the original one will also be modified."
      ],
      "metadata": {
        "id": "dhFPw-1ice57"
      }
    },
    {
      "cell_type": "code",
      "source": [
        "g2 = g.reshape(4, 6)\n",
        "print(g2)\n",
        "print(\"Rank:\", g2.ndim)\n",
        "\n",
        "g2[1, 2] = 999\n",
        "print(g2)\n",
        "g"
      ],
      "metadata": {
        "colab": {
          "base_uri": "https://localhost:8080/"
        },
        "id": "KOAL4HEQckFy",
        "outputId": "32267b19-bcce-43fe-a977-63e6b3f3725f"
      },
      "execution_count": null,
      "outputs": [
        {
          "output_type": "stream",
          "name": "stdout",
          "text": [
            "[[ 0  1  2  3  4  5]\n",
            " [ 6  7  8  9 10 11]\n",
            " [12 13 14 15 16 17]\n",
            " [18 19 20 21 22 23]]\n",
            "Rank: 2\n",
            "[[  0   1   2   3   4   5]\n",
            " [  6   7 999   9  10  11]\n",
            " [ 12  13  14  15  16  17]\n",
            " [ 18  19  20  21  22  23]]\n"
          ]
        },
        {
          "output_type": "execute_result",
          "data": {
            "text/plain": [
              "array([[  0,   1,   2,   3],\n",
              "       [  4,   5,   6,   7],\n",
              "       [999,   9,  10,  11],\n",
              "       [ 12,  13,  14,  15],\n",
              "       [ 16,  17,  18,  19],\n",
              "       [ 20,  21,  22,  23]])"
            ]
          },
          "metadata": {},
          "execution_count": 23
        }
      ]
    },
    {
      "cell_type": "markdown",
      "source": [
        "`ravel()`\n",
        "\n",
        "`ravel()` function returns a new 1-Dimensional Array pointing to the same data."
      ],
      "metadata": {
        "id": "G2ga591VeIJ0"
      }
    },
    {
      "cell_type": "code",
      "source": [
        "g.ravel()"
      ],
      "metadata": {
        "colab": {
          "base_uri": "https://localhost:8080/"
        },
        "id": "4gy-lbQVeOtU",
        "outputId": "b1a6e38a-7a2c-43fd-dac9-0f074d965b4a"
      },
      "execution_count": null,
      "outputs": [
        {
          "output_type": "execute_result",
          "data": {
            "text/plain": [
              "array([  0,   1,   2,   3,   4,   5,   6,   7, 999,   9,  10,  11,  12,\n",
              "        13,  14,  15,  16,  17,  18,  19,  20,  21,  22,  23])"
            ]
          },
          "metadata": {},
          "execution_count": 24
        }
      ]
    },
    {
      "cell_type": "markdown",
      "source": [
        "\n",
        "\n",
        "---\n",
        "\n",
        "\n",
        "Elementwise Operations\n",
        "\n",
        "All usual Arithmetic Operators (`+`, `-`, `*`, etc.) can be used with `ndarray` datatype. They are applied elementwise. Note that multiplication here is not same as matrix multiplication since this is being done elementwise."
      ],
      "metadata": {
        "id": "QTWwBC5cSva3"
      }
    },
    {
      "cell_type": "code",
      "source": [
        "a = np.array([14, 23, 32, 41])\n",
        "b = np.array([5, 4, 3, 2])\n",
        "\n",
        "print(\"a + b =\", a + b)\n",
        "print(\"a - b =\", a - b)\n",
        "print(\"a * b =\", a * b)"
      ],
      "metadata": {
        "colab": {
          "base_uri": "https://localhost:8080/"
        },
        "id": "q-Xa3gKVUq5u",
        "outputId": "2ededc98-98f3-46f0-b3e0-f31eac3e67fd"
      },
      "execution_count": null,
      "outputs": [
        {
          "output_type": "stream",
          "name": "stdout",
          "text": [
            "a + b = [19 27 35 43]\n",
            "a - b = [ 9 19 29 39]\n",
            "a * b = [70 92 96 82]\n"
          ]
        }
      ]
    },
    {
      "cell_type": "markdown",
      "source": [
        "Comparison Operators (`>`, `<`, etc.) are also applied elementwise on `ndarray` datatype."
      ],
      "metadata": {
        "id": "tXwMhsflTK2Z"
      }
    },
    {
      "cell_type": "code",
      "source": [
        "m = np.array([20, -5, 30, 40])\n",
        "m < [15, 16, 35, 36]"
      ],
      "metadata": {
        "colab": {
          "base_uri": "https://localhost:8080/"
        },
        "id": "Z9z9TY-rVDKH",
        "outputId": "73f006ad-f04d-42d1-e944-5b8a761be15b"
      },
      "execution_count": null,
      "outputs": [
        {
          "output_type": "execute_result",
          "data": {
            "text/plain": [
              "array([False,  True,  True, False])"
            ]
          },
          "metadata": {},
          "execution_count": 26
        }
      ]
    },
    {
      "cell_type": "markdown",
      "source": [
        "\n",
        "\n",
        "---\n",
        "\n",
        "\n",
        "Broadcasting\n",
        "\n",
        "In general, NumPy excepts Arrays of the same shape when performing operations. If thats not the case, Broadcasting is applied. Smaller Array is Broadcast across the larger Array so that they have compatible Shapes. There are also cases where Broadcasting is a bad idea because it leads to inefficient use of memory."
      ],
      "metadata": {
        "id": "Et4qU8SWtetu"
      }
    },
    {
      "cell_type": "code",
      "source": [
        "h = np.arange(5).reshape(1, 1, 5)\n",
        "print(\"Array h:\\n\", h)\n",
        "print(\"\\n\")\n",
        "\n",
        "h + [10, 20, 30, 40, 50]  # Same as: h + [[[10, 20, 30, 40, 50]]]"
      ],
      "metadata": {
        "colab": {
          "base_uri": "https://localhost:8080/"
        },
        "id": "6iUFp5Up0BOG",
        "outputId": "30d57e13-12bc-42e2-b023-335020b7b378"
      },
      "execution_count": null,
      "outputs": [
        {
          "output_type": "stream",
          "name": "stdout",
          "text": [
            "Array h:\n",
            " [[[0 1 2 3 4]]]\n",
            "\n",
            "\n"
          ]
        },
        {
          "output_type": "execute_result",
          "data": {
            "text/plain": [
              "array([[[10, 21, 32, 43, 54]]])"
            ]
          },
          "metadata": {},
          "execution_count": 27
        }
      ]
    },
    {
      "cell_type": "markdown",
      "source": [
        "General Broadcasting Rules\n",
        "\n",
        "When operating on two Arrays, NumPy compares their shapes element-wise. It starts with the trailing (i.e., right-most) Dimension and works its way left. Two Dimensions are compatible when -\n",
        "\n",
        "1. They are equal\n",
        "2. One of them is 1 (Broadcasting is applied here)\n",
        "\n",
        "If these conditions are not, an error is thrown that operands could not be Broadcasted together."
      ],
      "metadata": {
        "id": "OpoUTKnT0ATm"
      }
    },
    {
      "cell_type": "code",
      "source": [
        "k = np.arange(6).reshape(2, 3)\n",
        "print(\"Array k:\\n\", k)\n",
        "print(\"\\n\")\n",
        "\n",
        "k + 1000  # Same as: k + [[1000, 1000, 1000], [1000, 1000, 1000]]"
      ],
      "metadata": {
        "colab": {
          "base_uri": "https://localhost:8080/"
        },
        "id": "v4jAPElX0Z9M",
        "outputId": "56e6e2db-51b3-4b88-c5f4-1d94ecfe9e48"
      },
      "execution_count": null,
      "outputs": [
        {
          "output_type": "stream",
          "name": "stdout",
          "text": [
            "Array k:\n",
            " [[0 1 2]\n",
            " [3 4 5]]\n",
            "\n",
            "\n"
          ]
        },
        {
          "output_type": "execute_result",
          "data": {
            "text/plain": [
              "array([[1000, 1001, 1002],\n",
              "       [1003, 1004, 1005]])"
            ]
          },
          "metadata": {},
          "execution_count": 28
        }
      ]
    },
    {
      "cell_type": "markdown",
      "source": [
        "Input Arrays do not need to have same number of Dimensions. The resulting Array will have the same number of Dimensions as the input Array with greatest number of Dimensions, where size of each Dimension is the largest of the corresponding Dimensions among the input Arrays.\n",
        "\n",
        "Upcasting\n",
        "\n",
        "When combining two Arrays with elements of different datatypes, NumPy will Upcast to a type capable of handling all possible values (regardless of what the actual values are)."
      ],
      "metadata": {
        "id": "gDb9ZwakzGos"
      }
    },
    {
      "cell_type": "code",
      "source": [
        "k1 = np.arange(0, 5)\n",
        "print(\"Array k1:\\n\", k1)\n",
        "print(\"\\n\")\n",
        "\n",
        "k2 = k1 + 1.5\n",
        "k2"
      ],
      "metadata": {
        "colab": {
          "base_uri": "https://localhost:8080/"
        },
        "id": "_ASoZFmI02iL",
        "outputId": "77f7434e-e85f-4087-9d33-02796f9604d3"
      },
      "execution_count": null,
      "outputs": [
        {
          "output_type": "stream",
          "name": "stdout",
          "text": [
            "Array k1:\n",
            " [0 1 2 3 4]\n",
            "\n",
            "\n"
          ]
        },
        {
          "output_type": "execute_result",
          "data": {
            "text/plain": [
              "array([1.5, 2.5, 3.5, 4.5, 5.5])"
            ]
          },
          "metadata": {},
          "execution_count": 29
        }
      ]
    }
  ]
}