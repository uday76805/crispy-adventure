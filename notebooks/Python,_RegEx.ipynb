{
  "cells": [
    {
      "cell_type": "markdown",
      "metadata": {
        "id": "EEHCB9_WBrjK"
      },
      "source": [
        "Decorators\n",
        "\n",
        "Design pattern that adds new functionality to an existing object, without modifying its structure, by using a wrapper function.\n",
        "\n",
        "Prerequisites -\n",
        "\n",
        "1. Nested Functions\n",
        "2. Passing a Function as an argument\n",
        "3. Returning a Function as a value"
      ]
    },
    {
      "cell_type": "markdown",
      "metadata": {
        "id": "d7FjvjIpCyjp"
      },
      "source": [
        "Nested Functions"
      ]
    },
    {
      "cell_type": "code",
      "execution_count": null,
      "metadata": {
        "colab": {
          "base_uri": "https://localhost:8080/"
        },
        "id": "JgF3dQoDC1gn",
        "outputId": "e4470ac0-be55-4e37-e700-aec1b95e59b4"
      },
      "outputs": [
        {
          "output_type": "stream",
          "name": "stdout",
          "text": [
            "5\n"
          ]
        }
      ],
      "source": [
        "# Adds 1 to a given number\n",
        "def plus_one(number):\n",
        "  def add_one(number):\n",
        "    return number + 1\n",
        "\n",
        "  result = add_one(number)\n",
        "  return result\n",
        "\n",
        "print(plus_one(4))"
      ]
    },
    {
      "cell_type": "markdown",
      "metadata": {
        "id": "l9SM9XWSDSlY"
      },
      "source": [
        "Passing a Function as an argument"
      ]
    },
    {
      "cell_type": "code",
      "execution_count": null,
      "metadata": {
        "colab": {
          "base_uri": "https://localhost:8080/"
        },
        "id": "BYZp9mH-DYbm",
        "outputId": "6161c06d-5be6-4ebd-b9b2-d23ffd2e91ac"
      },
      "outputs": [
        {
          "output_type": "execute_result",
          "data": {
            "text/plain": [
              "6"
            ]
          },
          "metadata": {},
          "execution_count": 9
        }
      ],
      "source": [
        "# Adds 1 to a given number\n",
        "def plus_one(number):\n",
        "  return number + 1\n",
        "\n",
        "def function_call(function):\n",
        "  number_to_add = 5\n",
        "  return function(number_to_add)\n",
        "\n",
        "function_call(plus_one)"
      ]
    },
    {
      "cell_type": "markdown",
      "metadata": {
        "id": "H3m3ErGdDvlv"
      },
      "source": [
        "Returning a Function as a value"
      ]
    },
    {
      "cell_type": "code",
      "execution_count": null,
      "metadata": {
        "colab": {
          "base_uri": "https://localhost:8080/"
        },
        "id": "FWGWws0tD3nH",
        "outputId": "d38c6558-004f-4230-a28b-cedafa762e48"
      },
      "outputs": [
        {
          "output_type": "stream",
          "name": "stdout",
          "text": [
            "11\n"
          ]
        }
      ],
      "source": [
        "# Adds two given numbers\n",
        "def outer(x):\n",
        "  def inner(y):\n",
        "    return x + y\n",
        "  return inner\n",
        "\n",
        "add_five = outer(5)\n",
        "result = add_five(6)\n",
        "print(result)"
      ]
    },
    {
      "cell_type": "markdown",
      "metadata": {
        "id": "EjWT0-YuER3W"
      },
      "source": [
        "Closure\n",
        "\n",
        "Python that allows a nested function to access the outer scope of an enclosing function. This is a critical concept in Decorators.\n",
        "\n",
        "Creating Decorators\n",
        "\n",
        "Done by defining a wrapper inside an enclosed function. The outer function is called a Decorator, which takes the original function as an argument and returns a modified version of it. We apply this Decorator to another function."
      ]
    },
    {
      "cell_type": "code",
      "execution_count": null,
      "metadata": {
        "colab": {
          "base_uri": "https://localhost:8080/",
          "height": 35
        },
        "id": "LyK0X4gdEHCm",
        "outputId": "7ba5c7ef-b949-439a-d9f2-0f10c6e6acd6"
      },
      "outputs": [
        {
          "output_type": "execute_result",
          "data": {
            "text/plain": [
              "'HELLO THERE'"
            ],
            "application/vnd.google.colaboratory.intrinsic+json": {
              "type": "string"
            }
          },
          "metadata": {},
          "execution_count": 11
        }
      ],
      "source": [
        "# Converts a given string to uppercase\n",
        "def uppercase_decorator(function):\n",
        "  def wrapper():\n",
        "    func = function()\n",
        "    make_uppercase = func.upper()\n",
        "    return make_uppercase\n",
        "\n",
        "  return wrapper\n",
        "\n",
        "@uppercase_decorator\n",
        "def say_hi():\n",
        "  return 'hello there'\n",
        "\n",
        "say_hi()"
      ]
    },
    {
      "cell_type": "markdown",
      "metadata": {
        "id": "HGhMM5DxGCPV"
      },
      "source": [
        "Additional Notes\n",
        "\n",
        "1. We can apply multiple Decorators to a single function. However. the Decorators will be applied in the order that we call them.\n",
        "2. To define a general purpose Decorator, that can be applied to any function, we use `*args` and `**kwargs` parameters.\n",
        "3. Decorators can also be used with classes, where they are used to modify or extened behaviour of the class."
      ]
    },
    {
      "cell_type": "markdown",
      "source": [
        "\n",
        "\n",
        "---\n",
        "\n",
        "\n",
        "Context Managers\n",
        "\n",
        "Objects that define a runtine context executing within the `with` statement. They are used for file-handling, for eg., opening and closing a resource. After `with` statement block, Python will close the resource automatically."
      ],
      "metadata": {
        "id": "q1_kXT4ZIxLm"
      }
    },
    {
      "cell_type": "code",
      "source": [
        "with open('/content/drive/MyDrive/data.txt') as f:\n",
        "  data = f.readlines()\n",
        "  print(data)"
      ],
      "metadata": {
        "colab": {
          "base_uri": "https://localhost:8080/"
        },
        "id": "dcWNfar4JSEl",
        "outputId": "30ad794f-6e01-46e5-c6d9-88350f0c2e4e"
      },
      "execution_count": null,
      "outputs": [
        {
          "output_type": "stream",
          "name": "stdout",
          "text": [
            "['Hello, this a test file to try out Context Managers\\n', 'using with statement.\\n', 'Have a nice day!']\n"
          ]
        }
      ]
    },
    {
      "cell_type": "markdown",
      "source": [
        "Context Manager Protocol\n",
        "\n",
        "Python Context Managers work based on the Context Manager Protocol. It has the following methods -\n",
        "\n",
        "1. `__enter__()` - To setup context and optionally return some object.\n",
        "2. `__exit__()` - To cleanup the object.\n",
        "\n",
        "Suppose `ContextManager()` is a class that supports this protocol, Python will implicitly create an instance of `ContextManager()` class."
      ],
      "metadata": {
        "id": "sjsTAoq-JpV9"
      }
    },
    {
      "cell_type": "code",
      "source": [
        "from typing import ContextManager\n",
        "\n",
        "with ContextManager() as ctx:\n",
        "  # Do something\n",
        "\n",
        "# Done with the context"
      ],
      "metadata": {
        "id": "Nrd6FN_SKm7d",
        "colab": {
          "base_uri": "https://localhost:8080/",
          "height": 106
        },
        "outputId": "92fcd250-774b-4b2a-dabd-efc253408896"
      },
      "execution_count": null,
      "outputs": [
        {
          "output_type": "error",
          "ename": "SyntaxError",
          "evalue": "incomplete input (<ipython-input-6-d94b5862554e>, line 6)",
          "traceback": [
            "\u001b[0;36m  File \u001b[0;32m\"<ipython-input-6-d94b5862554e>\"\u001b[0;36m, line \u001b[0;32m6\u001b[0m\n\u001b[0;31m    # Done with the context\u001b[0m\n\u001b[0m                           ^\u001b[0m\n\u001b[0;31mSyntaxError\u001b[0m\u001b[0;31m:\u001b[0m incomplete input\n"
          ]
        }
      ]
    },
    {
      "cell_type": "markdown",
      "source": [
        "\n",
        "\n",
        "---\n",
        "\n",
        "\n",
        "RegEx Basics\n",
        "\n",
        "Regular Expressions, commonly known as RegEx, are powerful tools to find patterns in a text."
      ],
      "metadata": {
        "id": "nMrPEiOPLJ3N"
      }
    },
    {
      "cell_type": "code",
      "source": [
        "# Validating email addresses\n",
        "import re\n",
        "\n",
        "pattern = \"[a-zA-Z0-9]+@[a-zA-Z]+\\.(com|edu|net)\"\n",
        "\n",
        "user_input = input()\n",
        "\n",
        "if (re.search(pattern, user_input)):\n",
        "  print(\"Valid email address\")\n",
        "else:\n",
        "  print(\"Invalid email address\")"
      ],
      "metadata": {
        "id": "qspnzJDFLVgE",
        "colab": {
          "base_uri": "https://localhost:8080/"
        },
        "outputId": "e0bdb0cd-382e-4e0b-9fd0-1b4c93ab8456"
      },
      "execution_count": null,
      "outputs": [
        {
          "output_type": "stream",
          "name": "stdout",
          "text": [
            "uday@gmail.com\n",
            "<re.Match object; span=(0, 14), match='uday@gmail.com'>\n",
            "Valid email address\n"
          ]
        }
      ]
    },
    {
      "cell_type": "code",
      "source": [
        "# Replacing specific part of a phone number string\n",
        "import re\n",
        "\n",
        "pattern = \"(\\d\\d\\d)-(\\d\\d\\d)-(\\d\\d\\d\\d)\"\n",
        "new_pattern = r\"\\1\\2\\3\"\n",
        "\n",
        "user_input = input()\n",
        "\n",
        "new_user_input = re.sub(pattern, new_pattern, user_input)\n",
        "print(new_user_input)"
      ],
      "metadata": {
        "id": "8hxbQ2UjMS6G"
      },
      "execution_count": null,
      "outputs": []
    }
  ],
  "metadata": {
    "colab": {
      "provenance": []
    },
    "kernelspec": {
      "display_name": "Python 3",
      "name": "python3"
    },
    "language_info": {
      "name": "python"
    }
  },
  "nbformat": 4,
  "nbformat_minor": 0
}